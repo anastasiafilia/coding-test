{
 "cells": [
  {
   "cell_type": "markdown",
   "id": "acb117e5",
   "metadata": {},
   "source": [
    "# Ore Proximity Model"
   ]
  },
  {
   "cell_type": "markdown",
   "id": "6120f7f0",
   "metadata": {},
   "source": [
    "A consultant is using metal abundance changes to predict proximity to an orebody.  Samples are classified as proximal (A) or distal (B) based on Euclidean distance to a wireframe model of the orebody.\n",
    "\n",
    "1. Can we use the same geochemical data and labels to generate a predictive model for future drill holes which can label samples on whether they are in class A or class B?\n",
    "2. More data has been acquired since the geochemist completed her work - can we predict labels onto these data points (labelled “?”).\n"
   ]
  },
  {
   "cell_type": "code",
   "execution_count": 3,
   "id": "b04ccd8c",
   "metadata": {},
   "outputs": [],
   "source": [
    "import pandas as pd\n",
    "import numpy as np\n",
    "import matplotlib.pyplot as plt\n",
    "from sklearn.model_selection import train_test_split, RandomizedSearchCV \n",
    "from sklearn.ensemble import RandomForestClassifier\n",
    "from sklearn.metrics import classification_report, confusion_matrix, ConfusionMatrixDisplay\n",
    "from sklearn.preprocessing import StandardScaler, LabelEncoder \n",
    "import seaborn as sns\n",
    "from scipy.stats import randint"
   ]
  },
  {
   "cell_type": "markdown",
   "id": "9e051ac5",
   "metadata": {},
   "source": [
    "## Step 1: Data - QA/QC"
   ]
  },
  {
   "cell_type": "code",
   "execution_count": 4,
   "id": "28e738e3",
   "metadata": {
    "scrolled": false
   },
   "outputs": [
    {
     "data": {
      "text/html": [
       "<div>\n",
       "<style scoped>\n",
       "    .dataframe tbody tr th:only-of-type {\n",
       "        vertical-align: middle;\n",
       "    }\n",
       "\n",
       "    .dataframe tbody tr th {\n",
       "        vertical-align: top;\n",
       "    }\n",
       "\n",
       "    .dataframe thead th {\n",
       "        text-align: right;\n",
       "    }\n",
       "</style>\n",
       "<table border=\"1\" class=\"dataframe\">\n",
       "  <thead>\n",
       "    <tr style=\"text-align: right;\">\n",
       "      <th></th>\n",
       "      <th>Unique_ID</th>\n",
       "      <th>holeid</th>\n",
       "      <th>from</th>\n",
       "      <th>to</th>\n",
       "      <th>As</th>\n",
       "      <th>Au</th>\n",
       "      <th>Pb</th>\n",
       "      <th>Fe</th>\n",
       "      <th>Mo</th>\n",
       "      <th>Cu</th>\n",
       "      <th>S</th>\n",
       "      <th>Zn</th>\n",
       "      <th>Class</th>\n",
       "    </tr>\n",
       "  </thead>\n",
       "  <tbody>\n",
       "    <tr>\n",
       "      <th>0</th>\n",
       "      <td>A04812</td>\n",
       "      <td>SOLVE003</td>\n",
       "      <td>561</td>\n",
       "      <td>571.0</td>\n",
       "      <td>NaN</td>\n",
       "      <td>0.066</td>\n",
       "      <td>1031.00</td>\n",
       "      <td>61380.0</td>\n",
       "      <td>138.2000</td>\n",
       "      <td>3.600</td>\n",
       "      <td>3586.0000</td>\n",
       "      <td>43.6000</td>\n",
       "      <td>A</td>\n",
       "    </tr>\n",
       "    <tr>\n",
       "      <th>1</th>\n",
       "      <td>A03356</td>\n",
       "      <td>SOLVE003</td>\n",
       "      <td>571</td>\n",
       "      <td>581.0</td>\n",
       "      <td>NaN</td>\n",
       "      <td>0.152</td>\n",
       "      <td>1982.00</td>\n",
       "      <td>50860.0</td>\n",
       "      <td>75.4000</td>\n",
       "      <td>4.800</td>\n",
       "      <td>1822.0000</td>\n",
       "      <td>36.4000</td>\n",
       "      <td>A</td>\n",
       "    </tr>\n",
       "    <tr>\n",
       "      <th>2</th>\n",
       "      <td>A04764</td>\n",
       "      <td>SOLVE003</td>\n",
       "      <td>581</td>\n",
       "      <td>591.0</td>\n",
       "      <td>NaN</td>\n",
       "      <td>0.068</td>\n",
       "      <td>1064.80</td>\n",
       "      <td>57940.0</td>\n",
       "      <td>29.2000</td>\n",
       "      <td>3.000</td>\n",
       "      <td>740.4000</td>\n",
       "      <td>36.6000</td>\n",
       "      <td>A</td>\n",
       "    </tr>\n",
       "    <tr>\n",
       "      <th>3</th>\n",
       "      <td>A04626</td>\n",
       "      <td>SOLVE003</td>\n",
       "      <td>591</td>\n",
       "      <td>601.0</td>\n",
       "      <td>NaN</td>\n",
       "      <td>0.074</td>\n",
       "      <td>891.60</td>\n",
       "      <td>48620.0</td>\n",
       "      <td>63.0000</td>\n",
       "      <td>4.200</td>\n",
       "      <td>820.8000</td>\n",
       "      <td>39.6000</td>\n",
       "      <td>A</td>\n",
       "    </tr>\n",
       "    <tr>\n",
       "      <th>4</th>\n",
       "      <td>A05579</td>\n",
       "      <td>SOLVE003</td>\n",
       "      <td>601</td>\n",
       "      <td>611.0</td>\n",
       "      <td>NaN</td>\n",
       "      <td>0.043125</td>\n",
       "      <td>801.25</td>\n",
       "      <td>51025.0</td>\n",
       "      <td>56.0625</td>\n",
       "      <td>4.875</td>\n",
       "      <td>745.6875</td>\n",
       "      <td>32.3125</td>\n",
       "      <td>A</td>\n",
       "    </tr>\n",
       "  </tbody>\n",
       "</table>\n",
       "</div>"
      ],
      "text/plain": [
       "  Unique_ID    holeid  from     to  As        Au       Pb       Fe        Mo  \\\n",
       "0    A04812  SOLVE003   561  571.0 NaN     0.066  1031.00  61380.0  138.2000   \n",
       "1    A03356  SOLVE003   571  581.0 NaN     0.152  1982.00  50860.0   75.4000   \n",
       "2    A04764  SOLVE003   581  591.0 NaN     0.068  1064.80  57940.0   29.2000   \n",
       "3    A04626  SOLVE003   591  601.0 NaN     0.074   891.60  48620.0   63.0000   \n",
       "4    A05579  SOLVE003   601  611.0 NaN  0.043125   801.25  51025.0   56.0625   \n",
       "\n",
       "      Cu          S       Zn Class  \n",
       "0  3.600  3586.0000  43.6000     A  \n",
       "1  4.800  1822.0000  36.4000     A  \n",
       "2  3.000   740.4000  36.6000     A  \n",
       "3  4.200   820.8000  39.6000     A  \n",
       "4  4.875   745.6875  32.3125     A  "
      ]
     },
     "execution_count": 4,
     "metadata": {},
     "output_type": "execute_result"
    }
   ],
   "source": [
    "data = pd.read_csv('data/data_for_distribution.csv')\n",
    "data.head()"
   ]
  },
  {
   "cell_type": "code",
   "execution_count": 5,
   "id": "89a97680",
   "metadata": {
    "scrolled": true
   },
   "outputs": [
    {
     "name": "stdout",
     "output_type": "stream",
     "text": [
      "<class 'pandas.core.frame.DataFrame'>\n",
      "RangeIndex: 4771 entries, 0 to 4770\n",
      "Data columns (total 13 columns):\n",
      " #   Column     Non-Null Count  Dtype  \n",
      "---  ------     --------------  -----  \n",
      " 0   Unique_ID  4771 non-null   object \n",
      " 1   holeid     4771 non-null   object \n",
      " 2   from       4771 non-null   int64  \n",
      " 3   to         4771 non-null   float64\n",
      " 4   As         3268 non-null   float64\n",
      " 5   Au         4765 non-null   object \n",
      " 6   Pb         4756 non-null   float64\n",
      " 7   Fe         4709 non-null   float64\n",
      " 8   Mo         4741 non-null   float64\n",
      " 9   Cu         4746 non-null   float64\n",
      " 10  S          4761 non-null   float64\n",
      " 11  Zn         4762 non-null   float64\n",
      " 12  Class      4771 non-null   object \n",
      "dtypes: float64(8), int64(1), object(4)\n",
      "memory usage: 484.7+ KB\n"
     ]
    }
   ],
   "source": [
    "data.info()"
   ]
  },
  {
   "cell_type": "code",
   "execution_count": 6,
   "id": "9701bd91",
   "metadata": {
    "scrolled": false
   },
   "outputs": [
    {
     "name": "stdout",
     "output_type": "stream",
     "text": [
      "Number of NaN values per column:\n",
      "Unique_ID       0\n",
      "holeid          0\n",
      "from            0\n",
      "to              0\n",
      "As           1503\n",
      "Au              6\n",
      "Pb             15\n",
      "Fe             62\n",
      "Mo             30\n",
      "Cu             25\n",
      "S              10\n",
      "Zn              9\n",
      "Class           0\n",
      "dtype: int64\n"
     ]
    }
   ],
   "source": [
    "# Check how many NaN values are in each column\n",
    "nan_values = data.isna().sum()\n",
    "\n",
    "# Print the number of NaN values per column\n",
    "print(\"Number of NaN values per column:\")\n",
    "print(nan_values)"
   ]
  },
  {
   "cell_type": "markdown",
   "id": "adf9369f",
   "metadata": {},
   "source": [
    "Looking at the data, I saw that there are some there are some QA/QC issues.\n",
    "These included\n",
    "- Au data type is object\n",
    "- missing values\n",
    "- values below the detection limit (<0.005)\n",
    "- unsuitable values (-999)"
   ]
  },
  {
   "cell_type": "code",
   "execution_count": 7,
   "id": "943cad16",
   "metadata": {
    "scrolled": false
   },
   "outputs": [
    {
     "data": {
      "text/html": [
       "<div>\n",
       "<style scoped>\n",
       "    .dataframe tbody tr th:only-of-type {\n",
       "        vertical-align: middle;\n",
       "    }\n",
       "\n",
       "    .dataframe tbody tr th {\n",
       "        vertical-align: top;\n",
       "    }\n",
       "\n",
       "    .dataframe thead th {\n",
       "        text-align: right;\n",
       "    }\n",
       "</style>\n",
       "<table border=\"1\" class=\"dataframe\">\n",
       "  <thead>\n",
       "    <tr style=\"text-align: right;\">\n",
       "      <th></th>\n",
       "      <th>Unique_ID</th>\n",
       "      <th>holeid</th>\n",
       "      <th>from</th>\n",
       "      <th>to</th>\n",
       "      <th>As</th>\n",
       "      <th>Au</th>\n",
       "      <th>Pb</th>\n",
       "      <th>Fe</th>\n",
       "      <th>Mo</th>\n",
       "      <th>Cu</th>\n",
       "      <th>S</th>\n",
       "      <th>Zn</th>\n",
       "      <th>Class</th>\n",
       "    </tr>\n",
       "  </thead>\n",
       "  <tbody>\n",
       "    <tr>\n",
       "      <th>257</th>\n",
       "      <td>A03720</td>\n",
       "      <td>SOLVE026</td>\n",
       "      <td>731</td>\n",
       "      <td>741.0</td>\n",
       "      <td>5.0</td>\n",
       "      <td>0.122</td>\n",
       "      <td>1881.2</td>\n",
       "      <td>35440.0</td>\n",
       "      <td>133.0</td>\n",
       "      <td>6.0</td>\n",
       "      <td>2770.0</td>\n",
       "      <td>43.4</td>\n",
       "      <td>A</td>\n",
       "    </tr>\n",
       "    <tr>\n",
       "      <th>1043</th>\n",
       "      <td>A02183</td>\n",
       "      <td>SOLVE047</td>\n",
       "      <td>351</td>\n",
       "      <td>361.0</td>\n",
       "      <td>18.4</td>\n",
       "      <td>0.290</td>\n",
       "      <td>2150.0</td>\n",
       "      <td>65700.0</td>\n",
       "      <td>32.6</td>\n",
       "      <td>146.4</td>\n",
       "      <td>9854.0</td>\n",
       "      <td>362.0</td>\n",
       "      <td>A</td>\n",
       "    </tr>\n",
       "    <tr>\n",
       "      <th>1057</th>\n",
       "      <td>A04574</td>\n",
       "      <td>SOLVE052</td>\n",
       "      <td>411</td>\n",
       "      <td>421.0</td>\n",
       "      <td>6.6</td>\n",
       "      <td>0.076</td>\n",
       "      <td>1636.0</td>\n",
       "      <td>57380.0</td>\n",
       "      <td>57.4</td>\n",
       "      <td>12.2</td>\n",
       "      <td>1808.0</td>\n",
       "      <td>37.8</td>\n",
       "      <td>A</td>\n",
       "    </tr>\n",
       "    <tr>\n",
       "      <th>1058</th>\n",
       "      <td>A04149</td>\n",
       "      <td>SOLVE052</td>\n",
       "      <td>421</td>\n",
       "      <td>431.0</td>\n",
       "      <td>15.8</td>\n",
       "      <td>0.097</td>\n",
       "      <td>2375.6</td>\n",
       "      <td>53980.0</td>\n",
       "      <td>50.4</td>\n",
       "      <td>13.2</td>\n",
       "      <td>2878.0</td>\n",
       "      <td>35.6</td>\n",
       "      <td>A</td>\n",
       "    </tr>\n",
       "    <tr>\n",
       "      <th>1059</th>\n",
       "      <td>A05461</td>\n",
       "      <td>SOLVE052</td>\n",
       "      <td>431</td>\n",
       "      <td>441.0</td>\n",
       "      <td>18.6</td>\n",
       "      <td>0.046</td>\n",
       "      <td>1514.6</td>\n",
       "      <td>54920.0</td>\n",
       "      <td>18.6</td>\n",
       "      <td>13.8</td>\n",
       "      <td>2394.0</td>\n",
       "      <td>30.4</td>\n",
       "      <td>A</td>\n",
       "    </tr>\n",
       "  </tbody>\n",
       "</table>\n",
       "</div>"
      ],
      "text/plain": [
       "     Unique_ID    holeid  from     to    As     Au      Pb       Fe     Mo  \\\n",
       "257     A03720  SOLVE026   731  741.0   5.0  0.122  1881.2  35440.0  133.0   \n",
       "1043    A02183  SOLVE047   351  361.0  18.4  0.290  2150.0  65700.0   32.6   \n",
       "1057    A04574  SOLVE052   411  421.0   6.6  0.076  1636.0  57380.0   57.4   \n",
       "1058    A04149  SOLVE052   421  431.0  15.8  0.097  2375.6  53980.0   50.4   \n",
       "1059    A05461  SOLVE052   431  441.0  18.6  0.046  1514.6  54920.0   18.6   \n",
       "\n",
       "         Cu       S     Zn Class  \n",
       "257     6.0  2770.0   43.4     A  \n",
       "1043  146.4  9854.0  362.0     A  \n",
       "1057   12.2  1808.0   37.8     A  \n",
       "1058   13.2  2878.0   35.6     A  \n",
       "1059   13.8  2394.0   30.4     A  "
      ]
     },
     "execution_count": 7,
     "metadata": {},
     "output_type": "execute_result"
    }
   ],
   "source": [
    "elements = ['As', 'Au', 'Pb', 'Fe', 'Mo', 'Cu', 'S', 'Zn']\n",
    "\n",
    "# Replace '<0.005' with half of the detection limit and '-999' with NaN\n",
    "data[elements] = data[elements].replace({'<0.005': 0.005 / 2, '-999': np.nan})\n",
    "\n",
    "# Convert the 'Au' column to float64\n",
    "data['Au'] = pd.to_numeric(data['Au'], errors='coerce')\n",
    "\n",
    "# Drop NaN values\n",
    "data_cleaned = data.dropna(subset=elements)\n",
    "\n",
    "data_cleaned.to_csv(\"./data/cleaned_data.csv\", index=False)\n",
    "data_cleaned.head()\n"
   ]
  },
  {
   "cell_type": "code",
   "execution_count": 8,
   "id": "6c5c78d1",
   "metadata": {},
   "outputs": [
    {
     "name": "stdout",
     "output_type": "stream",
     "text": [
      "float64\n"
     ]
    }
   ],
   "source": [
    "# Some checks:\n",
    "\n",
    "# Check the data type of 'Au' column\n",
    "print(data['Au'].dtype)\n",
    "\n",
    "nan_check = data_cleaned.isna().sum()\n",
    "\n",
    "# Print NaN values if any exist\n",
    "if nan_check.any():\n",
    "    print(\"NaN values in cleaned data:\")\n",
    "    print(nan_check[nan_check > 0], \"\\n\")\n",
    "\n",
    "for element in elements:\n",
    "    # Check for values equal to '-999'\n",
    "    if (data_cleaned[element] == -999).any():\n",
    "        print(f\"Warning: '{element}' contains '-999' values.\")\n",
    "    \n",
    "    # Check for values equal to '<0.005'\n",
    "    if (data_cleaned[element] == '<0.005').any():\n",
    "        print(f\"Warning: '{element}' contains '<0.005' values.\")"
   ]
  },
  {
   "cell_type": "markdown",
   "id": "53c5522b",
   "metadata": {},
   "source": [
    "We can do other data checks but I am assuming these are the only issues and moving on"
   ]
  },
  {
   "cell_type": "markdown",
   "id": "2d2aef0f",
   "metadata": {},
   "source": [
    "## Step 2: Modelling\n",
    "### Aim 1: Generate a predictive model"
   ]
  },
  {
   "cell_type": "code",
   "execution_count": 9,
   "id": "411d810e",
   "metadata": {
    "scrolled": true
   },
   "outputs": [
    {
     "name": "stdout",
     "output_type": "stream",
     "text": [
      "Class\n",
      "A    1759\n",
      "B     743\n",
      "?     685\n",
      "Name: count, dtype: int64\n"
     ]
    }
   ],
   "source": [
    "# Check the distribution of classes\n",
    "class_counts = data_cleaned['Class'].value_counts()\n",
    "print(class_counts)"
   ]
  },
  {
   "cell_type": "code",
   "execution_count": 10,
   "id": "e945df09",
   "metadata": {
    "scrolled": true
   },
   "outputs": [
    {
     "name": "stdout",
     "output_type": "stream",
     "text": [
      "Best hyperparameters: {'max_depth': 17, 'n_estimators': 466}\n"
     ]
    }
   ],
   "source": [
    "# Mostly from https://www.datacamp.com/tutorial/random-forests-classifier-python\n",
    "\n",
    "# Separate labeled and unlabeled data\n",
    "labeled_data = data_cleaned[data_cleaned['Class'].isin(['A', 'B'])]\n",
    "unlabeled_data = data_cleaned[data_cleaned['Class'] == '?']\n",
    "\n",
    "# Features and target\n",
    "X = labeled_data[elements]\n",
    "y = labeled_data['Class']\n",
    "\n",
    "# Encode labels\n",
    "le = LabelEncoder()\n",
    "y_encoded = le.fit_transform(y)\n",
    "\n",
    "# Standardize features\n",
    "scaler = StandardScaler()\n",
    "X_scaled = scaler.fit_transform(X)\n",
    "\n",
    "# Train-test split\n",
    "X_train, X_test, y_train, y_test = train_test_split(X_scaled, y_encoded, test_size=0.2, random_state=42)\n",
    "\n",
    "\n",
    "#Hyperparameter tuning \n",
    "param_dist = {'n_estimators': randint(50,500),\n",
    "              'max_depth': randint(1,20)}\n",
    "\n",
    "rf = RandomForestClassifier()\n",
    "\n",
    "rand_search = RandomizedSearchCV(rf, \n",
    "                                 param_distributions = param_dist, \n",
    "                                 n_iter=5, \n",
    "                                 cv=5)\n",
    "rand_search.fit(X_train, y_train)\n",
    "\n",
    "best_rf = rand_search.best_estimator_\n",
    "\n",
    "# Print the best hyperparameters\n",
    "print('Best hyperparameters:',  rand_search.best_params_)\n",
    "\n"
   ]
  },
  {
   "cell_type": "code",
   "execution_count": 11,
   "id": "27ad8b29",
   "metadata": {
    "scrolled": false
   },
   "outputs": [
    {
     "name": "stdout",
     "output_type": "stream",
     "text": [
      "Classification Report:\n",
      "              precision    recall  f1-score   support\n",
      "\n",
      "           0       0.93      0.92      0.92       363\n",
      "           1       0.80      0.80      0.80       138\n",
      "\n",
      "    accuracy                           0.89       501\n",
      "   macro avg       0.86      0.86      0.86       501\n",
      "weighted avg       0.89      0.89      0.89       501\n",
      "\n"
     ]
    }
   ],
   "source": [
    "# Evaluate model\n",
    "y_pred = best_rf.predict(X_test)\n",
    "print(\"Classification Report:\")\n",
    "print(classification_report(y_test, y_pred))"
   ]
  },
  {
   "cell_type": "code",
   "execution_count": 12,
   "id": "53d68eca",
   "metadata": {},
   "outputs": [
    {
     "name": "stdout",
     "output_type": "stream",
     "text": [
      "Confusion Matrix:\n"
     ]
    },
    {
     "data": {
      "image/png": "[encoded data removed]",
      "text/plain": [
       "<Figure size 432x288 with 2 Axes>"
      ]
     },
     "metadata": {
      "needs_background": "light"
     },
     "output_type": "display_data"
    }
   ],
   "source": [
    "print(\"Confusion Matrix:\")\n",
    "cm = confusion_matrix(y_test, y_pred)\n",
    "ConfusionMatrixDisplay(confusion_matrix=cm).plot();\n"
   ]
  },
  {
   "cell_type": "code",
   "execution_count": 13,
   "id": "05ea49ab",
   "metadata": {
    "scrolled": true
   },
   "outputs": [],
   "source": [
    "# #optional extra\n",
    "# # Checking to see how the data was scaled\n",
    "\n",
    "# # Visualize histograms before scaling for 'Fe' (example)\n",
    "# plt.figure(figsize=(12, 6))\n",
    "# plt.subplot(1, 2, 1)\n",
    "# plt.hist(X['Fe'], bins=50, color='blue', alpha=0.7)\n",
    "# plt.title('Before Scaling: Fe')\n",
    "\n",
    "# # Visualize histograms after scaling for 'Fe'\n",
    "# plt.subplot(1, 2, 2)\n",
    "# plt.hist(X_scaled[:, X.columns.get_loc('Fe')], bins=50, color='green', alpha=0.7)\n",
    "# plt.title('After Scaling: Fe')\n"
   ]
  },
  {
   "cell_type": "code",
   "execution_count": 14,
   "id": "705d2ffd",
   "metadata": {
    "scrolled": true
   },
   "outputs": [],
   "source": [
    "# #optional extra\n",
    "# Feature Importance\n",
    "# feature_importances = best_rf.feature_importances_\n",
    "# feature_importance_df = pd.DataFrame({'Element': elements, 'Importance': feature_importances})\n",
    "# feature_importance_df = feature_importance_df.sort_values(by='Importance', ascending=False)\n",
    "\n",
    "# plt.figure(figsize=(10, 6))\n",
    "# sns.barplot(x='Importance', y='Element', data=feature_importance_df, color='steelblue')\n",
    "# plt.title('Feature Importance for Predicting Class A vs Class B')\n",
    "# plt.tight_layout()\n",
    "# plt.show()"
   ]
  },
  {
   "cell_type": "markdown",
   "id": "989eba46",
   "metadata": {},
   "source": [
    "### Aim 2: Predict labels "
   ]
  },
  {
   "cell_type": "code",
   "execution_count": 17,
   "id": "41f2f5e1",
   "metadata": {
    "scrolled": false
   },
   "outputs": [
    {
     "name": "stdout",
     "output_type": "stream",
     "text": [
      "Predictions on Unlabeled Data:\n",
      "     Unique_ID      holeid Predicted_Class\n",
      "4004    A04920  SOLVE225W1               A\n",
      "4005    A05729  SOLVE225W1               A\n",
      "4006    A05270  SOLVE225W1               A\n",
      "4007    A05634  SOLVE225W1               A\n",
      "4008    A04689  SOLVE225W1               A\n",
      "...        ...         ...             ...\n",
      "4072    A06469    SOLVE227               B\n",
      "4073    A06256    SOLVE227               B\n",
      "4074    A05766    SOLVE227               B\n",
      "4075    A08273    SOLVE227               B\n",
      "4076    A06155    SOLVE227               B\n",
      "\n",
      "[70 rows x 3 columns]\n"
     ]
    }
   ],
   "source": [
    "unlabeled_data_copy = unlabeled_data.copy()\n",
    "\n",
    "# Predict unlabeled data \n",
    "X_new = unlabeled_data[elements]\n",
    "X_new_scaled = scaler.transform(X_new)\n",
    "unlabeled_data.loc[:, 'Predicted_Class'] = le.inverse_transform(best_rf.predict(X_new_scaled))\n",
    "\n",
    "print(\"Predictions on Unlabeled Data:\")\n",
    "print(unlabeled_data[['Unique_ID', 'holeid', 'Predicted_Class']].head(70))\n",
    "unlabeled_data.to_csv('./data/predictions_on_unlabeled_data.csv', index=False)\n"
   ]
  },
  {
   "cell_type": "markdown",
   "id": "23730f2b",
   "metadata": {},
   "source": [
    "Results available on: predictions_on_unlabeled_data.csv"
   ]
  },
  {
   "cell_type": "code",
   "execution_count": 18,
   "id": "182b0d3e",
   "metadata": {},
   "outputs": [
    {
     "name": "stdout",
     "output_type": "stream",
     "text": [
      "Predictions for '?' class:\n",
      "Predicted_Class\n",
      "B    390\n",
      "A    295\n",
      "Name: count, dtype: int64\n"
     ]
    }
   ],
   "source": [
    "# Filter the rows where the original 'Class' column is '?'\n",
    "unlabeled_data_question = unlabeled_data[unlabeled_data['Class'] == '?']\n",
    "\n",
    "# Count how many were predicted to be 'A' and 'B'\n",
    "class_counts_from_question = unlabeled_data_question['Predicted_Class'].value_counts()\n",
    "\n",
    "# Print out the prediction counts for 'A' and 'B' from '?'\n",
    "print(f\"Predictions for '?' class:\")\n",
    "print(class_counts_from_question)"
   ]
  },
  {
   "cell_type": "markdown",
   "id": "0eb795e5",
   "metadata": {},
   "source": [
    "### Observations"
   ]
  },
  {
   "cell_type": "markdown",
   "id": "e8bcc086",
   "metadata": {},
   "source": [
    "- The model performs well overall, with high accuracy and strong performance for Class A.\n",
    "- Class B predictions are less accurate.\n",
    "- The imbalance in the dataset (more Class A samples) is probably why the model performs better for Class A \n",
    "- Pb has the highest feature importance (makes sense as this is a lead deposit)"
   ]
  },
  {
   "cell_type": "markdown",
   "id": "e8dc4640",
   "metadata": {},
   "source": [
    "### Improvements: \n",
    "- Handle missing values more effectively (instead of dropping).\n",
    "- Perform additional model validation (e.g., cross-validation, ROC curves).\n",
    "- Experiment with other models (e.g., SVM, Gradient Boosting) for comparison."
   ]
  }
 ],
 "metadata": {
  "kernelspec": {
   "display_name": "Python 3 (ipykernel)",
   "language": "python",
   "name": "python3"
  },
  "language_info": {
   "codemirror_mode": {
    "name": "ipython",
    "version": 3
   },
   "file_extension": ".py",
   "mimetype": "text/x-python",
   "name": "python",
   "nbconvert_exporter": "python",
   "pygments_lexer": "ipython3",
   "version": "3.9.7"
  }
 },
 "nbformat": 4,
 "nbformat_minor": 5
}
